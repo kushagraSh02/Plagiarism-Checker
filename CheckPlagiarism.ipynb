{
 "cells": [
  {
   "cell_type": "code",
   "execution_count": 1,
   "id": "a9d52640",
   "metadata": {},
   "outputs": [],
   "source": [
    "import os \n",
    "from sklearn.feature_extraction.text import TfidfVectorizer\n",
    "from sklearn.metrics.pairwise import cosine_similarity"
   ]
  },
  {
   "cell_type": "code",
   "execution_count": 2,
   "id": "18d456d4",
   "metadata": {},
   "outputs": [],
   "source": [
    "files = [file for file in os.listdir() if file.endswith('.txt')]"
   ]
  },
  {
   "cell_type": "code",
   "execution_count": 3,
   "id": "70b78df1",
   "metadata": {},
   "outputs": [
    {
     "data": {
      "text/plain": [
       "['File1.txt', 'File2.txt', 'File3.txt']"
      ]
     },
     "execution_count": 3,
     "metadata": {},
     "output_type": "execute_result"
    }
   ],
   "source": [
    "files"
   ]
  },
  {
   "cell_type": "code",
   "execution_count": 4,
   "id": "a6333c1f",
   "metadata": {},
   "outputs": [],
   "source": [
    "files_data = [open(_file, encoding='utf-8').read() for _file in files]"
   ]
  },
  {
   "cell_type": "code",
   "execution_count": 5,
   "id": "74b4ed0d",
   "metadata": {},
   "outputs": [
    {
     "data": {
      "text/plain": [
       "['Hello guys my name is Kushagra Singh, I study Engineering in Manipal University.',\n",
       " 'Myself Kushagra Singh, Student of School of Computer Science, Manipal University Jaipur.',\n",
       " 'Hello, Myself Kushagra Singh, Student of Manipal University Jaipur']"
      ]
     },
     "execution_count": 5,
     "metadata": {},
     "output_type": "execute_result"
    }
   ],
   "source": [
    "files_data"
   ]
  },
  {
   "cell_type": "code",
   "execution_count": 6,
   "id": "b0e0d39e",
   "metadata": {},
   "outputs": [],
   "source": [
    "def vectorize(text):\n",
    "    return TfidfVectorizer().fit_transform(text).toarray()"
   ]
  },
  {
   "cell_type": "code",
   "execution_count": 7,
   "id": "2950a87a",
   "metadata": {},
   "outputs": [],
   "source": [
    "def similarity(file1, file2):\n",
    "    return cosine_similarity([file1, file2])"
   ]
  },
  {
   "cell_type": "code",
   "execution_count": 8,
   "id": "e409611f",
   "metadata": {},
   "outputs": [],
   "source": [
    "vectors = vectorize(files_data)"
   ]
  },
  {
   "cell_type": "code",
   "execution_count": 9,
   "id": "1dc9fef0",
   "metadata": {},
   "outputs": [
    {
     "data": {
      "text/plain": [
       "array([[0.        , 0.33382127, 0.33382127, 0.25387968, 0.33382127,\n",
       "        0.33382127, 0.        , 0.19716022, 0.19716022, 0.33382127,\n",
       "        0.        , 0.33382127, 0.        , 0.        , 0.        ,\n",
       "        0.19716022, 0.        , 0.33382127, 0.19716022],\n",
       "       [0.3441305 , 0.        , 0.        , 0.        , 0.        ,\n",
       "        0.        , 0.26172012, 0.20324902, 0.20324902, 0.        ,\n",
       "        0.26172012, 0.        , 0.52344023, 0.3441305 , 0.3441305 ,\n",
       "        0.20324902, 0.26172012, 0.        , 0.20324902],\n",
       "       [0.        , 0.        , 0.        , 0.36730061, 0.        ,\n",
       "        0.        , 0.36730061, 0.28524169, 0.28524169, 0.        ,\n",
       "        0.36730061, 0.        , 0.36730061, 0.        , 0.        ,\n",
       "        0.28524169, 0.36730061, 0.        , 0.28524169]])"
      ]
     },
     "execution_count": 9,
     "metadata": {},
     "output_type": "execute_result"
    }
   ],
   "source": [
    "vectors"
   ]
  },
  {
   "cell_type": "code",
   "execution_count": 10,
   "id": "9e9afc38",
   "metadata": {},
   "outputs": [],
   "source": [
    "s_vectors = list(zip(files, vectors))\n"
   ]
  },
  {
   "cell_type": "code",
   "execution_count": 11,
   "id": "b8edcb2e",
   "metadata": {},
   "outputs": [],
   "source": [
    "plag_results = set()\n",
    "def check_plagiarism():\n",
    "    global s_vectors\n",
    "    for file_i, text_vector_i in s_vectors:\n",
    "        new_vectors = s_vectors.copy()\n",
    "        current_index = new_vectors.index((file_i, text_vector_i))\n",
    "        del new_vectors[current_index]\n",
    "        for file_x, text_vector_x in new_vectors:\n",
    "            similarity_score = similarity(text_vector_i, text_vector_x)[0][1]\n",
    "            file_pair = sorted((file_i, file_x))\n",
    "            score = (file_pair[0], file_pair[1], similarity_score)\n",
    "            plag_results.add(score)\n",
    "    return plag_results"
   ]
  },
  {
   "cell_type": "code",
   "execution_count": 12,
   "id": "8bcc78f9",
   "metadata": {},
   "outputs": [
    {
     "name": "stdout",
     "output_type": "stream",
     "text": [
      "('File1.txt', 'File2.txt', 0.1602904857631937)\n",
      "('File1.txt', 'File3.txt', 0.31820342454518147)\n",
      "('File2.txt', 'File3.txt', 0.7125501754452863)\n"
     ]
    }
   ],
   "source": [
    "for data in check_plagiarism():\n",
    "    print(data)"
   ]
  }
 ],
 "metadata": {
  "kernelspec": {
   "display_name": "Python 3 (ipykernel)",
   "language": "python",
   "name": "python3"
  },
  "language_info": {
   "codemirror_mode": {
    "name": "ipython",
    "version": 3
   },
   "file_extension": ".py",
   "mimetype": "text/x-python",
   "name": "python",
   "nbconvert_exporter": "python",
   "pygments_lexer": "ipython3",
   "version": "3.9.12"
  }
 },
 "nbformat": 4,
 "nbformat_minor": 5
}
